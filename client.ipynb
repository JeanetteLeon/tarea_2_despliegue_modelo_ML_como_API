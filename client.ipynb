{
 "cells": [
  {
   "cell_type": "markdown",
   "id": "f28cff07",
   "metadata": {},
   "source": [
    "Config e imports"
   ]
  },
  {
   "cell_type": "code",
   "execution_count": 3,
   "id": "8c24fb7b",
   "metadata": {},
   "outputs": [],
   "source": [
    "import requests\n",
    "import json\n",
    "from pprint import pprint\n",
    "\n",
    "BASE_URL = \"https://tarea-2-despliegue-modelo-ml-como-api-2.onrender.com\"\n",
    "\n",
    "def pretty(obj):\n",
    "    print(json.dumps(obj, indent=2, ensure_ascii=False))\n"
   ]
  },
  {
   "cell_type": "markdown",
   "id": "a02ea08e",
   "metadata": {},
   "source": [
    "Healthcheck"
   ]
  },
  {
   "cell_type": "code",
   "execution_count": 4,
   "id": "3c00716e",
   "metadata": {},
   "outputs": [
    {
     "name": "stdout",
     "output_type": "stream",
     "text": [
      "Status: 200\n",
      "{\n",
      "  \"status\": \"ok\",\n",
      "  \"models_dir\": \"model/artifacts\",\n",
      "  \"models\": [\n",
      "    \"RF\",\n",
      "    \"GB\",\n",
      "    \"LR\"\n",
      "  ]\n",
      "}\n"
     ]
    }
   ],
   "source": [
    "r = requests.get(f\"{BASE_URL}/health\", timeout=30)\n",
    "print(\"Status:\", r.status_code)\n",
    "pretty(r.json())\n"
   ]
  },
  {
   "cell_type": "markdown",
   "id": "606419f6",
   "metadata": {},
   "source": [
    "## Prueba 1: /predict (xbox, tipo 5)"
   ]
  },
  {
   "cell_type": "code",
   "execution_count": 6,
   "id": "4ee75e87",
   "metadata": {},
   "outputs": [
    {
     "name": "stdout",
     "output_type": "stream",
     "text": [
      "Status: 200\n",
      "Payload enviado:\n",
      "{\n",
      "  \"precio_inicial\": 45,\n",
      "  \"n_postores\": 5,\n",
      "  \"n_pujas\": 10,\n",
      "  \"reputacion_prom\": 50,\n",
      "  \"producto\": \"xbox\",\n",
      "  \"tipo_subasta\": 5\n",
      "}\n",
      "Respuesta:\n",
      "{\n",
      "  \"predicciones\": {\n",
      "    \"RF\": 133.6523,\n",
      "    \"GB\": 110.4041,\n",
      "    \"LR\": 21.8221\n",
      "  }\n",
      "}\n"
     ]
    }
   ],
   "source": [
    "payload1 = {\n",
    "    \"precio_inicial\": 45,\n",
    "    \"n_postores\": 5,\n",
    "    \"n_pujas\": 10,\n",
    "    \"reputacion_prom\": 50,\n",
    "    \"producto\": \"xbox\",\n",
    "    \"tipo_subasta\": 5\n",
    "}\n",
    "\n",
    "r = requests.post(f\"{BASE_URL}/predict\", json=payload1, timeout=60)\n",
    "print(\"Status:\", r.status_code)\n",
    "print(\"Payload enviado:\")\n",
    "pretty(payload1)\n",
    "print(\"Respuesta:\")\n",
    "pretty(r.json())\n"
   ]
  },
  {
   "cell_type": "markdown",
   "id": "e5842e17",
   "metadata": {},
   "source": [
    "## Prueba 2: /predict (palm, tipo 7)"
   ]
  },
  {
   "cell_type": "code",
   "execution_count": 7,
   "id": "6425b8a4",
   "metadata": {},
   "outputs": [
    {
     "name": "stdout",
     "output_type": "stream",
     "text": [
      "Status: 200\n",
      "Payload enviado:\n",
      "{\n",
      "  \"precio_inicial\": 120,\n",
      "  \"n_postores\": 3,\n",
      "  \"n_pujas\": 15,\n",
      "  \"reputacion_prom\": 70,\n",
      "  \"producto\": \"palm\",\n",
      "  \"tipo_subasta\": 7\n",
      "}\n",
      "Respuesta:\n",
      "{\n",
      "  \"predicciones\": {\n",
      "    \"RF\": 244.2707,\n",
      "    \"GB\": 467.34,\n",
      "    \"LR\": 119.6121\n",
      "  }\n",
      "}\n"
     ]
    }
   ],
   "source": [
    "payload2 = {\n",
    "    \"precio_inicial\": 120,\n",
    "    \"n_postores\": 3,\n",
    "    \"n_pujas\": 15,\n",
    "    \"reputacion_prom\": 70,\n",
    "    \"producto\": \"palm\",\n",
    "    \"tipo_subasta\": 7\n",
    "}\n",
    "\n",
    "r = requests.post(f\"{BASE_URL}/predict\", json=payload2, timeout=60)\n",
    "print(\"Status:\", r.status_code)\n",
    "print(\"Payload enviado:\")\n",
    "pretty(payload2)\n",
    "print(\"Respuesta:\")\n",
    "pretty(r.json())\n"
   ]
  },
  {
   "cell_type": "markdown",
   "id": "9d379d26",
   "metadata": {},
   "source": [
    "## Prueba 3: /simulate (100 juegos)"
   ]
  },
  {
   "cell_type": "code",
   "execution_count": 8,
   "id": "165cd17f",
   "metadata": {},
   "outputs": [
    {
     "name": "stdout",
     "output_type": "stream",
     "text": [
      "Status: 200\n",
      "Payload enviado:\n",
      "{\n",
      "  \"precio_inicial\": 100,\n",
      "  \"n_postores\": 3,\n",
      "  \"n_pujas\": 20,\n",
      "  \"reputacion_prom\": 50,\n",
      "  \"producto\": \"xbox\",\n",
      "  \"tipo_subasta\": 3,\n",
      "  \"juegos\": 100,\n",
      "  \"valor_min\": 50,\n",
      "  \"valor_max\": 90,\n",
      "  \"incremento\": 1,\n",
      "  \"tope\": 100,\n",
      "  \"seed\": 123\n",
      "}\n",
      "Respuesta (resumen):\n",
      "{\n",
      "  \"resultados\": {\n",
      "    \"RF\": 55,\n",
      "    \"GB\": 45,\n",
      "    \"LR\": 0\n",
      "  },\n",
      "  \"ganador_ultimo\": \"GB\",\n",
      "  \"precio_pagado_ultimo\": 68.0\n",
      "}\n"
     ]
    }
   ],
   "source": [
    "payload3 = {\n",
    "    \"precio_inicial\": 100,\n",
    "    \"n_postores\": 3,\n",
    "    \"n_pujas\": 20,\n",
    "    \"reputacion_prom\": 50,\n",
    "    \"producto\": \"xbox\",\n",
    "    \"tipo_subasta\": 3,\n",
    "    \"juegos\": 100,\n",
    "    \"valor_min\": 50,\n",
    "    \"valor_max\": 90,\n",
    "    \"incremento\": 1,\n",
    "    \"tope\": 100,\n",
    "    \"seed\": 123\n",
    "}\n",
    "\n",
    "r = requests.post(f\"{BASE_URL}/simulate\", json=payload3, timeout=120)\n",
    "print(\"Status:\", r.status_code)\n",
    "print(\"Payload enviado:\")\n",
    "pretty(payload3)\n",
    "print(\"Respuesta (resumen):\")\n",
    "resp = r.json()\n",
    "pretty({\n",
    "    \"resultados\": resp.get(\"resultados\"),\n",
    "    \"ganador_ultimo\": resp.get(\"detalle_ultimo_juego\", {}).get(\"ganador\"),\n",
    "    \"precio_pagado_ultimo\": resp.get(\"detalle_ultimo_juego\", {}).get(\"precio_pagado\")\n",
    "})\n"
   ]
  },
  {
   "cell_type": "markdown",
   "id": "72b746e5",
   "metadata": {},
   "source": [
    "## Manejo básico de errores"
   ]
  },
  {
   "cell_type": "code",
   "execution_count": 9,
   "id": "7cb45846",
   "metadata": {},
   "outputs": [
    {
     "name": "stdout",
     "output_type": "stream",
     "text": [
      "Status: 422\n",
      "Respuesta de validación:\n",
      "{\n",
      "  \"detail\": [\n",
      "    {\n",
      "      \"type\": \"greater_than\",\n",
      "      \"loc\": [\n",
      "        \"body\",\n",
      "        \"precio_inicial\"\n",
      "      ],\n",
      "      \"msg\": \"Input should be greater than 0\",\n",
      "      \"input\": -10,\n",
      "      \"ctx\": {\n",
      "        \"gt\": 0.0\n",
      "      }\n",
      "    },\n",
      "    {\n",
      "      \"type\": \"greater_than_equal\",\n",
      "      \"loc\": [\n",
      "        \"body\",\n",
      "        \"n_postores\"\n",
      "      ],\n",
      "      \"msg\": \"Input should be greater than or equal to 1\",\n",
      "      \"input\": 0,\n",
      "      \"ctx\": {\n",
      "        \"ge\": 1\n",
      "      }\n",
      "    },\n",
      "    {\n",
      "      \"type\": \"greater_than_equal\",\n",
      "      \"loc\": [\n",
      "        \"body\",\n",
      "        \"n_pujas\"\n",
      "      ],\n",
      "      \"msg\": \"Input should be greater than or equal to 1\",\n",
      "      \"input\": 0,\n",
      "      \"ctx\": {\n",
      "        \"ge\": 1\n",
      "      }\n",
      "    },\n",
      "    {\n",
      "      \"type\": \"less_than_equal\",\n",
      "      \"loc\": [\n",
      "        \"body\",\n",
      "        \"reputacion_prom\"\n",
      "      ],\n",
      "      \"msg\": \"Input should be less than or equal to 100\",\n",
      "      \"input\": 150,\n",
      "      \"ctx\": {\n",
      "        \"le\": 100.0\n",
      "      }\n",
      "    },\n",
      "    {\n",
      "      \"type\": \"literal_error\",\n",
      "      \"loc\": [\n",
      "        \"body\",\n",
      "        \"producto\"\n",
      "      ],\n",
      "      \"msg\": \"Input should be 'xbox', 'palm' or 'cartier'\",\n",
      "      \"input\": \"otro\",\n",
      "      \"ctx\": {\n",
      "        \"expected\": \"'xbox', 'palm' or 'cartier'\"\n",
      "      }\n",
      "    },\n",
      "    {\n",
      "      \"type\": \"literal_error\",\n",
      "      \"loc\": [\n",
      "        \"body\",\n",
      "        \"tipo_subasta\"\n",
      "      ],\n",
      "      \"msg\": \"Input should be 3, 5 or 7\",\n",
      "      \"input\": 2,\n",
      "      \"ctx\": {\n",
      "        \"expected\": \"3, 5 or 7\"\n",
      "      }\n",
      "    }\n",
      "  ]\n",
      "}\n"
     ]
    }
   ],
   "source": [
    "bad_payload = {\n",
    "    \"precio_inicial\": -10,  # inválido (debería ser > 0)\n",
    "    \"n_postores\": 0,        # inválido (>=1)\n",
    "    \"n_pujas\": 0,           # inválido (>=1)\n",
    "    \"reputacion_prom\": 150, # inválido (0..100)\n",
    "    \"producto\": \"otro\",\n",
    "    \"tipo_subasta\": 2\n",
    "}\n",
    "\n",
    "r = requests.post(f\"{BASE_URL}/predict\", json=bad_payload)\n",
    "print(\"Status:\", r.status_code)\n",
    "print(\"Respuesta de validación:\")\n",
    "pretty(r.json())\n"
   ]
  }
 ],
 "metadata": {
  "kernelspec": {
   "display_name": ".venv",
   "language": "python",
   "name": "python3"
  },
  "language_info": {
   "codemirror_mode": {
    "name": "ipython",
    "version": 3
   },
   "file_extension": ".py",
   "mimetype": "text/x-python",
   "name": "python",
   "nbconvert_exporter": "python",
   "pygments_lexer": "ipython3",
   "version": "3.12.2"
  }
 },
 "nbformat": 4,
 "nbformat_minor": 5
}
